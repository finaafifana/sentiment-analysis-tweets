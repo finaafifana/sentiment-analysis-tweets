{
 "cells": [
  {
   "cell_type": "code",
   "execution_count": 18,
   "id": "662f6de5",
   "metadata": {},
   "outputs": [],
   "source": [
    "import tweepy\n",
    "import csv\n",
    "import pandas as pd\n",
    "\n",
    "access_token = \"1420950902769295363-nnpVROfqZY2C7LjyRFBD1Bigb5MZrI\"\n",
    "access_token_secret = \"LQY32Ld1SRG9lH70bQb4jkzkZh6dpLfUZJiNyb1KiJmIa\"\n",
    "api_key = \"Cx7lt7EnLXSZRdD9UaYWZOUfI\"\n",
    "api_key_secret = \"RjpKj7ALU4LGmj86MjL4ztoJg7swHW1ltPCoyr9MDA4Jvy9Mr1\"\n",
    "\n",
    "auth = tweepy.OAuthHandler(api_key, api_key_secret)\n",
    "auth.set_access_token(access_token, access_token_secret)\n",
    "api = tweepy.API(auth, wait_on_rate_limit=True)\n",
    "search_key = \"tanboy kun\"\n",
    "\n"
   ]
  },
  {
   "cell_type": "code",
   "execution_count": 19,
   "id": "ddc3e389",
   "metadata": {},
   "outputs": [],
   "source": [
    "csvFile = open(search_key+\".csv\",\"a+\",newline=\"\",encoding=\"utf-8\")\n",
    "csvWriter = csv.writer(csvFile)\n"
   ]
  },
  {
   "cell_type": "code",
   "execution_count": 20,
   "id": "66289061",
   "metadata": {},
   "outputs": [
    {
     "data": {
      "text/html": [
       "<div>\n",
       "<style scoped>\n",
       "    .dataframe tbody tr th:only-of-type {\n",
       "        vertical-align: middle;\n",
       "    }\n",
       "\n",
       "    .dataframe tbody tr th {\n",
       "        vertical-align: top;\n",
       "    }\n",
       "\n",
       "    .dataframe thead th {\n",
       "        text-align: right;\n",
       "    }\n",
       "</style>\n",
       "<table border=\"1\" class=\"dataframe\">\n",
       "  <thead>\n",
       "    <tr style=\"text-align: right;\">\n",
       "      <th></th>\n",
       "      <th>waktu</th>\n",
       "      <th>id</th>\n",
       "      <th>username</th>\n",
       "      <th>teks</th>\n",
       "    </tr>\n",
       "  </thead>\n",
       "  <tbody>\n",
       "  </tbody>\n",
       "</table>\n",
       "</div>"
      ],
      "text/plain": [
       "Empty DataFrame\n",
       "Columns: [waktu, id, username, teks]\n",
       "Index: []"
      ]
     },
     "execution_count": 20,
     "metadata": {},
     "output_type": "execute_result"
    }
   ],
   "source": [
    "c = []\n",
    "i = []\n",
    "u = []\n",
    "t = []\n",
    "\n",
    "for tweet in tweepy.Cursor(api.search,q=search_key,count=1000,lang=\"id\",since=\"2020-10-20\",until=\"2020-10-23\").items():\n",
    "    print(tweet.created_at,tweet.id,tweet.user.name,tweet.text)\n",
    "    c.append(tweet.created.at)\n",
    "    i.append(tweet.id)\n",
    "    u.append(tweet.user.name)\n",
    "    t.append(tweet.text.encode(\"utf-8\"))\n",
    "    tweets = [tweet.created.at,tweet.id,tweet.user.name,tweet.text.encode(\"utf-8\")]\n",
    "    csvWriter.writerow(tweets)\n",
    "\n",
    "dictTweet = {\"waktu\":c,\"id\":i,\"username\":u,\"teks\":t}\n",
    "df = pd.DataFrame(dictTweet,columns=[\"waktu\",\"id\",\"username\",\"teks\"])\n",
    "df"
   ]
  },
  {
   "cell_type": "code",
   "execution_count": null,
   "id": "271e00a8",
   "metadata": {},
   "outputs": [],
   "source": []
  },
  {
   "cell_type": "code",
   "execution_count": null,
   "id": "2d687e60",
   "metadata": {},
   "outputs": [],
   "source": []
  }
 ],
 "metadata": {
  "kernelspec": {
   "display_name": "Python 3 (ipykernel)",
   "language": "python",
   "name": "python3"
  },
  "language_info": {
   "codemirror_mode": {
    "name": "ipython",
    "version": 3
   },
   "file_extension": ".py",
   "mimetype": "text/x-python",
   "name": "python",
   "nbconvert_exporter": "python",
   "pygments_lexer": "ipython3",
   "version": "3.8.8"
  }
 },
 "nbformat": 4,
 "nbformat_minor": 5
}
